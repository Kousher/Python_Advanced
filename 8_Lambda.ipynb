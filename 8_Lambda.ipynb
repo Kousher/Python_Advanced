{
 "cells": [
  {
   "cell_type": "markdown",
   "metadata": {},
   "source": [
    "# Lambda functions\n",
    "A lambda function is a small (one line) anonymous function that is defined without a name. A lambda function can take any number of arguments, but can only have one expression. While normal functions are defined using the def keyword, in Python anonymous functions are defined using the lambda keyword.\n",
    "\n",
    "`lambda arguments: expression`  \n",
    "\n",
    "Lambda functions are used when a simple function is used only once or for a short period in your code. It's most common use is as an argument to higher-order functions (functions that takes in other functions as arguments). They are also used along with built-in functions like  `map()`, `filter()`, `reduce()`."
   ]
  },
  {
   "cell_type": "code",
   "execution_count": 5,
   "metadata": {
    "ExecuteTime": {
     "end_time": "2022-08-22T04:04:13.174004Z",
     "start_time": "2022-08-22T04:04:13.161305Z"
    }
   },
   "outputs": [
    {
     "name": "stdout",
     "output_type": "stream",
     "text": [
      "15 20\n",
      "20 35\n"
     ]
    }
   ],
   "source": [
    "# a lambda function that adds 10 to the input argument\n",
    "f = lambda x: x+10\n",
    "val1 = f(5)\n",
    "val2 = f(10)\n",
    "print(val1, val2)\n",
    "\n",
    "# a lambda function that multiplies two input arguments and returns the result\n",
    "f = lambda x,y: x*y\n",
    "val3 = f(2,10)\n",
    "val4 = f(7,5)\n",
    "print(val3, val4)"
   ]
  },
  {
   "cell_type": "markdown",
   "metadata": {},
   "source": [
    "## Usage example: Lamdba inside another function\n",
    "Return a customized lambda function from another function and create different function variations depending on your needs."
   ]
  },
  {
   "cell_type": "code",
   "execution_count": 7,
   "metadata": {
    "ExecuteTime": {
     "end_time": "2022-08-22T04:06:59.148052Z",
     "start_time": "2022-08-22T04:06:59.132676Z"
    }
   },
   "outputs": [
    {
     "name": "stdout",
     "output_type": "stream",
     "text": [
      "12\n",
      "18\n"
     ]
    }
   ],
   "source": [
    "def myfunc(n):\n",
    "    return lambda x: x * n\n",
    "\n",
    "doubler = myfunc(2)\n",
    "print(doubler(6))\n",
    "\n",
    "tripler = myfunc(3)\n",
    "print(tripler(6))"
   ]
  },
  {
   "cell_type": "markdown",
   "metadata": {},
   "source": [
    "# We'll explore this lambda function later in map, filter, and reduce functions"
   ]
  }
 ],
 "metadata": {
  "kernelspec": {
   "display_name": "Python 3 (ipykernel)",
   "language": "python",
   "name": "python3"
  },
  "language_info": {
   "codemirror_mode": {
    "name": "ipython",
    "version": 3
   },
   "file_extension": ".py",
   "mimetype": "text/x-python",
   "name": "python",
   "nbconvert_exporter": "python",
   "pygments_lexer": "ipython3",
   "version": "3.9.12"
  },
  "varInspector": {
   "cols": {
    "lenName": 16,
    "lenType": 16,
    "lenVar": 40
   },
   "kernels_config": {
    "python": {
     "delete_cmd_postfix": "",
     "delete_cmd_prefix": "del ",
     "library": "var_list.py",
     "varRefreshCmd": "print(var_dic_list())"
    },
    "r": {
     "delete_cmd_postfix": ") ",
     "delete_cmd_prefix": "rm(",
     "library": "var_list.r",
     "varRefreshCmd": "cat(var_dic_list()) "
    }
   },
   "types_to_exclude": [
    "module",
    "function",
    "builtin_function_or_method",
    "instance",
    "_Feature"
   ],
   "window_display": false
  }
 },
 "nbformat": 4,
 "nbformat_minor": 2
}
