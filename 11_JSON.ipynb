{
 "cells": [
  {
   "cell_type": "markdown",
   "metadata": {},
   "source": [
    "# JSON\n",
    "JSON (JavaScript Object Notation) is a leightweight data format for data exchange. In Python you have the built-in `json` module for encoding and decoding JSON data. Simply import it and you are ready to work with JSON data:\n",
    "\n",
    "```python\n",
    "import json\n",
    "```  \n",
    "\n",
    "Some advantages of JSON:\n",
    "- JSON exists as a \"sequence of bytes\" which is very useful in the case we need to transmit (stream) data over a network.\n",
    "- Compared to XML, JSON is much smaller, translating into faster data transfers, and better experiences.\n",
    "- JSON is extremely human-friendly since it is textual, and simultaneously machine-friendly."
   ]
  },
  {
   "cell_type": "markdown",
   "metadata": {},
   "source": [
    "## JSON format"
   ]
  },
  {
   "cell_type": "code",
   "execution_count": null,
   "metadata": {},
   "outputs": [],
   "source": [
    "{\n",
    "    \"firstName\": \"Jane\",\n",
    "    \"lastName\": \"Doe\",\n",
    "    \"hobbies\": [\"running\", \"swimming\", \"singing\"],\n",
    "    \"age\": 28,\n",
    "    \"children\": [\n",
    "        {\n",
    "            \"firstName\": \"Alex\",\n",
    "            \"age\": 5\n",
    "        },\n",
    "        {\n",
    "            \"firstName\": \"Bob\",\n",
    "            \"age\": 7\n",
    "        }\n",
    "    ]\n",
    "}"
   ]
  },
  {
   "cell_type": "markdown",
   "metadata": {},
   "source": [
    "JSON supports primitive types (strings, numbers, boolean), as well as nested arrays and objects. Simple Python objects are translated to JSON according to the following conversion:  \n",
    "\n",
    "| Python |    JSON |\n",
    "| :--- | ---: |\n",
    "| dict | object |\n",
    "| list, tuple | array |\n",
    "| str | string |\n",
    "| int, long, float | number |\n",
    "| True | true |\n",
    "| False | false |\n",
    "| None | null |"
   ]
  },
  {
   "cell_type": "markdown",
   "metadata": {},
   "source": [
    "## From Python to JSON (Serialization, Encode)\n",
    "Convert Python objects into a JSON string with the `json.dumps()` method."
   ]
  },
  {
   "cell_type": "code",
   "execution_count": 5,
   "metadata": {
    "ExecuteTime": {
     "end_time": "2022-08-30T06:49:04.057370Z",
     "start_time": "2022-08-30T06:49:04.050161Z"
    }
   },
   "outputs": [
    {
     "name": "stdout",
     "output_type": "stream",
     "text": [
      "{\"name\": \"John\", \"age\": 30, \"city\": \"New York\", \"hasChildren\": false, \"titles\": [\"engineer\", \"programmer\"]}\n",
      "{'name': 'John', 'age': 30, 'city': 'New York', 'hasChildren': False, 'titles': ['engineer', 'programmer']}\n",
      "{\n",
      "    \"age\"= 30; \n",
      "    \"city\"= \"New York\"; \n",
      "    \"hasChildren\"= false; \n",
      "    \"name\"= \"John\"; \n",
      "    \"titles\"= [\n",
      "        \"engineer\"; \n",
      "        \"programmer\"\n",
      "    ]\n",
      "}\n"
     ]
    }
   ],
   "source": [
    "import json\n",
    "\n",
    "person = {\"name\": \"John\", \"age\": 30, \"city\": \"New York\", \"hasChildren\": False, \"titles\": [\"engineer\", \"programmer\"]}\n",
    "\n",
    "# convert into JSON:\n",
    "person_json = json.dumps(person)\n",
    "person_dict = dict(person)\n",
    "\n",
    "# use different formatting style\n",
    "person_json2 = json.dumps(person, indent=4, separators=(\"; \", \"= \"), sort_keys=True)\n",
    "\n",
    "# the result is a JSON string:\n",
    "print(person_json)\n",
    "print(person_dict)\n",
    "print(person_json2) "
   ]
  },
  {
   "cell_type": "markdown",
   "metadata": {},
   "source": [
    "Or convert Python objects into JSON objects and save them into a file with the `json.dump()` method."
   ]
  },
  {
   "cell_type": "code",
   "execution_count": 8,
   "metadata": {
    "ExecuteTime": {
     "end_time": "2022-08-30T06:57:05.745683Z",
     "start_time": "2022-08-30T06:57:05.731759Z"
    }
   },
   "outputs": [],
   "source": [
    "import json\n",
    "\n",
    "person = {\"name\": \"John\", \"age\": 30, \"city\": \"New York\", \"hasChildren\": False, \"titles\": [\"engineer\", \"programmer\"]}\n",
    "\n",
    "with open('person.json', 'w') as f:\n",
    "    json.dump(person, f) # you can also specify indent etc..."
   ]
  },
  {
   "cell_type": "markdown",
   "metadata": {},
   "source": [
    "## FROM JSON to Python (Deserialization, Decode)\n",
    "Convert a JSON string into a Python object with the `json.loads()` method. The result will be a **Python dictionary**."
   ]
  },
  {
   "cell_type": "code",
   "execution_count": 9,
   "metadata": {
    "ExecuteTime": {
     "end_time": "2022-08-30T06:57:30.446058Z",
     "start_time": "2022-08-30T06:57:30.427068Z"
    }
   },
   "outputs": [
    {
     "name": "stdout",
     "output_type": "stream",
     "text": [
      "{'age': 30, 'city': 'New York', 'hasChildren': False, 'name': 'John', 'titles': ['engineer', 'programmer']}\n"
     ]
    }
   ],
   "source": [
    "import json\n",
    "person_json = \"\"\"\n",
    "{\n",
    "    \"age\": 30, \n",
    "    \"city\": \"New York\",\n",
    "    \"hasChildren\": false, \n",
    "    \"name\": \"John\",\n",
    "    \"titles\": [\n",
    "        \"engineer\",\n",
    "        \"programmer\"\n",
    "    ]\n",
    "}\n",
    "\"\"\"\n",
    "person = json.loads(person_json)\n",
    "print(person)"
   ]
  },
  {
   "cell_type": "markdown",
   "metadata": {},
   "source": [
    "Or load data from a file and convert it to a Python object with the `json.load()` method."
   ]
  },
  {
   "cell_type": "code",
   "execution_count": 10,
   "metadata": {
    "ExecuteTime": {
     "end_time": "2022-08-30T06:57:36.681079Z",
     "start_time": "2022-08-30T06:57:36.675485Z"
    }
   },
   "outputs": [
    {
     "name": "stdout",
     "output_type": "stream",
     "text": [
      "{'name': 'John', 'age': 30, 'city': 'New York', 'hasChildren': False, 'titles': ['engineer', 'programmer']}\n"
     ]
    }
   ],
   "source": [
    "import json\n",
    "\n",
    "with open('person.json', 'r') as f:\n",
    "    person = json.load(f)\n",
    "    print(person)"
   ]
  }
 ],
 "metadata": {
  "kernelspec": {
   "display_name": "Python 3 (ipykernel)",
   "language": "python",
   "name": "python3"
  },
  "language_info": {
   "codemirror_mode": {
    "name": "ipython",
    "version": 3
   },
   "file_extension": ".py",
   "mimetype": "text/x-python",
   "name": "python",
   "nbconvert_exporter": "python",
   "pygments_lexer": "ipython3",
   "version": "3.9.12"
  },
  "varInspector": {
   "cols": {
    "lenName": 16,
    "lenType": 16,
    "lenVar": 40
   },
   "kernels_config": {
    "python": {
     "delete_cmd_postfix": "",
     "delete_cmd_prefix": "del ",
     "library": "var_list.py",
     "varRefreshCmd": "print(var_dic_list())"
    },
    "r": {
     "delete_cmd_postfix": ") ",
     "delete_cmd_prefix": "rm(",
     "library": "var_list.r",
     "varRefreshCmd": "cat(var_dic_list()) "
    }
   },
   "types_to_exclude": [
    "module",
    "function",
    "builtin_function_or_method",
    "instance",
    "_Feature"
   ],
   "window_display": false
  }
 },
 "nbformat": 4,
 "nbformat_minor": 2
}
