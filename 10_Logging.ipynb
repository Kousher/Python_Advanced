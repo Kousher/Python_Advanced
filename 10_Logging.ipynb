{
 "cells": [
  {
   "cell_type": "markdown",
   "metadata": {},
   "source": [
    "# Logging\n",
    "The logging module in Python is a powerful built-in module so you can quickly add logging to your application.  \n",
    "`import logging`"
   ]
  },
  {
   "cell_type": "markdown",
   "metadata": {},
   "source": [
    "## Log Level\n",
    "There are 5 different log levels indicating the serverity of events. By default, the system logs only events with level *WARNING* and above."
   ]
  },
  {
   "cell_type": "code",
   "execution_count": 1,
   "metadata": {
    "ExecuteTime": {
     "end_time": "2022-08-29T04:11:06.282816Z",
     "start_time": "2022-08-29T04:11:06.271958Z"
    }
   },
   "outputs": [
    {
     "name": "stderr",
     "output_type": "stream",
     "text": [
      "WARNING:root:This is a warning message\n",
      "ERROR:root:This is an error message\n",
      "CRITICAL:root:This is a critical message\n"
     ]
    }
   ],
   "source": [
    "import logging\n",
    "logging.debug('This is a debug message')\n",
    "logging.info('This is an info message')\n",
    "logging.warning('This is a warning message')\n",
    "logging.error('This is an error message')\n",
    "logging.critical('This is a critical message')"
   ]
  },
  {
   "cell_type": "markdown",
   "metadata": {},
   "source": [
    "## Configuration\n",
    "With `basicConfig(**kwargs)` you can customize the root logger. The most common parameters are the *level*, the *format*, and the *filename*. See https://docs.python.org/3/library/logging.html#logging.basicConfig for all possible arguments. See also https://docs.python.org/3/library/logging.html#logrecord-attributes for possible formats and https://docs.python.org/3/library/time.html#time.strftime how to set the time string. Note that this function should only be called once, and typically first thing after importing the module. It has no effect if the root logger already has handlers configured. For example calling `logging.info(...)` before the *basicConfig* will already set a handler."
   ]
  },
  {
   "cell_type": "code",
   "execution_count": 13,
   "metadata": {
    "ExecuteTime": {
     "end_time": "2022-08-29T06:09:38.993103Z",
     "start_time": "2022-08-29T06:09:38.977903Z"
    }
   },
   "outputs": [],
   "source": [
    "import logging\n",
    "logging.basicConfig(filename=r\"C:\\Users\\Admin\\python_advance_topics\\Errors_and_Warnings.txt\",filemode='w',level=logging.INFO, format='%(asctime)s - %(name)s - %(levelname)s - %(message)s', datefmt='%m/%d/%Y %H:%M:%S')\n",
    "# Now also debug messages will get logged with a different format.\n",
    "logging.info('Debug message')\n",
    "\n",
    "# This would log to a file instead of the console."
   ]
  },
  {
   "cell_type": "code",
   "execution_count": null,
   "metadata": {},
   "outputs": [],
   "source": [
    "#This is t2.py file\n",
    "\n",
    "import os,logging\n",
    "from t1 import *\n",
    "\n",
    "\n",
    "\n",
    "def main():\n",
    "\tl = log()\n",
    "\tl.info(\"This is error for x\")\n",
    "\n",
    "\n",
    "\n",
    "if __name__=='__main__':\n",
    "\tmain()"
   ]
  },
  {
   "cell_type": "code",
   "execution_count": 1,
   "metadata": {
    "ExecuteTime": {
     "end_time": "2022-08-30T06:41:38.247733Z",
     "start_time": "2022-08-30T06:41:38.235994Z"
    }
   },
   "outputs": [],
   "source": [
    "#This is t1.py file\n",
    "\n",
    "\n",
    "import os,logging\n",
    "import sys\n",
    "\n",
    "def log():\n",
    "\t#print(\"Hi\")\n",
    "\tlogger = logging.getLogger(__name__)\n",
    "\tlogger.setLevel(logging.DEBUG)\n",
    "\tf = logging.Formatter('%(lineno)d - %(asctime)s - %(levelname)s - %(filename)s - %(message)s ')\n",
    "\tfh = logging.FileHandler('./f1.log')\n",
    "\tfh.setFormatter(f)\n",
    "\tlogger.addHandler(fh)\n",
    "\treturn logger\n",
    "\t\n",
    "\n",
    "\n",
    "def main():\n",
    "\tl = log()\n",
    "\tl.info(\"This is log of t1\")\n",
    "\n",
    "if __name__=='__main__':\n",
    "\tmain()"
   ]
  }
 ],
 "metadata": {
  "kernelspec": {
   "display_name": "Python 3 (ipykernel)",
   "language": "python",
   "name": "python3"
  },
  "language_info": {
   "codemirror_mode": {
    "name": "ipython",
    "version": 3
   },
   "file_extension": ".py",
   "mimetype": "text/x-python",
   "name": "python",
   "nbconvert_exporter": "python",
   "pygments_lexer": "ipython3",
   "version": "3.9.12"
  },
  "varInspector": {
   "cols": {
    "lenName": 16,
    "lenType": 16,
    "lenVar": 40
   },
   "kernels_config": {
    "python": {
     "delete_cmd_postfix": "",
     "delete_cmd_prefix": "del ",
     "library": "var_list.py",
     "varRefreshCmd": "print(var_dic_list())"
    },
    "r": {
     "delete_cmd_postfix": ") ",
     "delete_cmd_prefix": "rm(",
     "library": "var_list.r",
     "varRefreshCmd": "cat(var_dic_list()) "
    }
   },
   "types_to_exclude": [
    "module",
    "function",
    "builtin_function_or_method",
    "instance",
    "_Feature"
   ],
   "window_display": false
  }
 },
 "nbformat": 4,
 "nbformat_minor": 2
}
